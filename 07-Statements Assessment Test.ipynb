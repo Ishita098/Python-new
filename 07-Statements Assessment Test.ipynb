{
 "cells": [
  {
   "cell_type": "markdown",
   "metadata": {},
   "source": [
    "___\n",
    "\n",
    "<a href='https://www.udemy.com/user/joseportilla/'><img src='../Pierian_Data_Logo.png'/></a>\n",
    "___\n",
    "<center><em>Content Copyright by Pierian Data</em></center>"
   ]
  },
  {
   "cell_type": "markdown",
   "metadata": {
    "collapsed": true
   },
   "source": [
    "# Statements Assessment Test\n",
    "Let's test your knowledge!"
   ]
  },
  {
   "cell_type": "markdown",
   "metadata": {},
   "source": [
    "_____\n",
    "**Use <code>for</code>, .split(), and <code>if</code> to create a Statement that will print out words that start with 's':**"
   ]
  },
  {
   "cell_type": "code",
   "execution_count": 9,
   "metadata": {},
   "outputs": [],
   "source": [
    "st = 'Sam Print only the Shushma words that start with s in this sentence'"
   ]
  },
  {
   "cell_type": "code",
   "execution_count": 17,
   "metadata": {},
   "outputs": [
    {
     "name": "stdout",
     "output_type": "stream",
     "text": [
      "Sam\n",
      "Shushma\n",
      "start\n",
      "s\n",
      "sentence\n"
     ]
    }
   ],
   "source": [
    "for word in st.split ():\n",
    "    if word[0] =='s' or word[0]=='S':\n",
    "        print(word)\n"
   ]
  },
  {
   "cell_type": "code",
   "execution_count": 21,
   "metadata": {},
   "outputs": [
    {
     "ename": "SyntaxError",
     "evalue": "invalid syntax (1978256095.py, line 3)",
     "output_type": "error",
     "traceback": [
      "\u001b[1;36m  Input \u001b[1;32mIn [21]\u001b[1;36m\u001b[0m\n\u001b[1;33m    or word [0].upper =='S':\u001b[0m\n\u001b[1;37m    ^\u001b[0m\n\u001b[1;31mSyntaxError\u001b[0m\u001b[1;31m:\u001b[0m invalid syntax\n"
     ]
    }
   ],
   "source": [
    "for word in st.split ():\n",
    "    if word[0].lower =='s':\n",
    "        or word [0].upper =='S':\n",
    "        print(word)"
   ]
  },
  {
   "cell_type": "markdown",
   "metadata": {},
   "source": [
    "______\n",
    "**Use range() to print all the even numbers from 0 to 10.**"
   ]
  },
  {
   "cell_type": "code",
   "execution_count": 22,
   "metadata": {},
   "outputs": [
    {
     "data": {
      "text/plain": [
       "[0, 2, 4, 6, 8, 10]"
      ]
     },
     "execution_count": 22,
     "metadata": {},
     "output_type": "execute_result"
    }
   ],
   "source": [
    "list(range(0,11,2))"
   ]
  },
  {
   "cell_type": "code",
   "execution_count": 28,
   "metadata": {},
   "outputs": [
    {
     "name": "stdout",
     "output_type": "stream",
     "text": [
      "0\n",
      "2\n",
      "4\n",
      "6\n",
      "8\n",
      "10\n"
     ]
    }
   ],
   "source": [
    "for num in range(0,11,2):\n",
    "    print(num)"
   ]
  },
  {
   "cell_type": "markdown",
   "metadata": {},
   "source": [
    "___\n",
    "**Use a List Comprehension to create a list of all numbers between 1 and 50 that are divisible by 3.**"
   ]
  },
  {
   "cell_type": "code",
   "execution_count": 32,
   "metadata": {},
   "outputs": [
    {
     "name": "stdout",
     "output_type": "stream",
     "text": [
      "3\n",
      "6\n",
      "9\n",
      "12\n",
      "15\n",
      "18\n",
      "21\n",
      "24\n",
      "27\n",
      "30\n",
      "33\n",
      "36\n",
      "39\n",
      "42\n",
      "45\n",
      "48\n"
     ]
    }
   ],
   "source": [
    "#method 1\n",
    "for x in range(1,51):\n",
    "    if x %3 ==0:\n",
    "        print(x)"
   ]
  },
  {
   "cell_type": "code",
   "execution_count": 33,
   "metadata": {},
   "outputs": [
    {
     "data": {
      "text/plain": [
       "[3, 6, 9, 12, 15, 18, 21, 24, 27, 30, 33, 36, 39, 42, 45, 48]"
      ]
     },
     "execution_count": 33,
     "metadata": {},
     "output_type": "execute_result"
    }
   ],
   "source": [
    "#method 2\n",
    "[x for x in range (1,51) if x%3== 0]"
   ]
  },
  {
   "cell_type": "markdown",
   "metadata": {},
   "source": [
    "_____\n",
    "**Go through the string below and if the length of a word is even print \"even!\"**"
   ]
  },
  {
   "cell_type": "code",
   "execution_count": null,
   "metadata": {
    "collapsed": true
   },
   "outputs": [],
   "source": [
    "st = 'Print every word in this sentence that has an even number of letters'"
   ]
  },
  {
   "cell_type": "code",
   "execution_count": 42,
   "metadata": {},
   "outputs": [
    {
     "name": "stdout",
     "output_type": "stream",
     "text": [
      "only is even\n",
      "that is even\n",
      "with is even\n",
      "in is even\n",
      "this is even\n",
      "sentence is even\n"
     ]
    }
   ],
   "source": [
    "for word in st.split():\n",
    "    if len (word)%2 ==0:\n",
    "        print(word + \" is even\")"
   ]
  },
  {
   "cell_type": "markdown",
   "metadata": {},
   "source": [
    "____\n",
    "**Write a program that prints the integers from 1 to 100. But for multiples of three print \"Fizz\" instead of the number, and for the multiples of five print \"Buzz\". For numbers which are multiples of both three and five print \"FizzBuzz\".**"
   ]
  },
  {
   "cell_type": "code",
   "execution_count": 58,
   "metadata": {},
   "outputs": [
    {
     "name": "stdout",
     "output_type": "stream",
     "text": [
      "1\n",
      "2\n",
      "FIZZ\n",
      "4\n",
      "BUZZ\n",
      "FIZZ\n",
      "7\n",
      "8\n",
      "FIZZ\n",
      "BUZZ\n",
      "11\n",
      "FIZZ\n",
      "13\n",
      "14\n",
      "FIZZ\n",
      "16\n",
      "17\n",
      "FIZZ\n",
      "19\n",
      "BUZZ\n",
      "FIZZ\n",
      "22\n",
      "23\n",
      "FIZZ\n",
      "BUZZ\n",
      "26\n",
      "FIZZ\n",
      "28\n",
      "29\n",
      "FIZZ\n",
      "31\n",
      "32\n",
      "FIZZ\n",
      "34\n",
      "BUZZ\n",
      "FIZZ\n",
      "37\n",
      "38\n",
      "FIZZ\n",
      "BUZZ\n",
      "41\n",
      "FIZZ\n",
      "43\n",
      "44\n",
      "FIZZ\n",
      "46\n",
      "47\n",
      "FIZZ\n",
      "49\n",
      "BUZZ\n",
      "FIZZ\n",
      "52\n",
      "53\n",
      "FIZZ\n",
      "BUZZ\n",
      "56\n",
      "FIZZ\n",
      "58\n",
      "59\n",
      "FIZZ\n",
      "61\n",
      "62\n",
      "FIZZ\n",
      "64\n",
      "BUZZ\n",
      "FIZZ\n",
      "67\n",
      "68\n",
      "FIZZ\n",
      "BUZZ\n",
      "71\n",
      "FIZZ\n",
      "73\n",
      "74\n",
      "FIZZ\n",
      "76\n",
      "77\n",
      "FIZZ\n",
      "79\n",
      "BUZZ\n",
      "FIZZ\n",
      "82\n",
      "83\n",
      "FIZZ\n",
      "BUZZ\n",
      "86\n",
      "FIZZ\n",
      "88\n",
      "89\n",
      "FIZZ\n",
      "91\n",
      "92\n",
      "FIZZ\n",
      "94\n",
      "BUZZ\n",
      "FIZZ\n",
      "97\n",
      "98\n",
      "FIZZ\n",
      "BUZZ\n"
     ]
    }
   ],
   "source": [
    "for x in range(1,101):\n",
    "    if x%3==0:\n",
    "        print('FIZZ')\n",
    "    elif x%5==0:\n",
    "        print(\"BUZZ\")\n",
    "    elif x%3==0 and x%5==0:\n",
    "        print(\"FIZZBUZZ\")\n",
    "    else:\n",
    "        print(x)\n",
    "        \n",
    "    "
   ]
  },
  {
   "cell_type": "markdown",
   "metadata": {},
   "source": [
    "____\n",
    "**Use List Comprehension to create a list of the first letters of every word in the string below:**"
   ]
  },
  {
   "cell_type": "code",
   "execution_count": null,
   "metadata": {
    "collapsed": true
   },
   "outputs": [],
   "source": [
    "st = 'Create a list of the first letters of every word in this string'"
   ]
  },
  {
   "cell_type": "code",
   "execution_count": 83,
   "metadata": {},
   "outputs": [
    {
     "data": {
      "text/plain": [
       "['S', 'P', 'o', 't', 'S', 'w', 't', 's', 'w', 's', 'i', 't', 's']"
      ]
     },
     "execution_count": 83,
     "metadata": {},
     "output_type": "execute_result"
    }
   ],
   "source": [
    "#m1\n",
    "[word[0] for word in st.split()]"
   ]
  },
  {
   "cell_type": "markdown",
   "metadata": {},
   "source": [
    "### Great Job!"
   ]
  },
  {
   "cell_type": "code",
   "execution_count": 82,
   "metadata": {},
   "outputs": [
    {
     "name": "stdout",
     "output_type": "stream",
     "text": [
      "S\n",
      "P\n",
      "o\n",
      "t\n",
      "S\n",
      "w\n",
      "t\n",
      "s\n",
      "w\n",
      "s\n",
      "i\n",
      "t\n",
      "s\n"
     ]
    }
   ],
   "source": [
    "#m2\n",
    "for word in st.split():\n",
    "    print (word[0])"
   ]
  },
  {
   "cell_type": "code",
   "execution_count": null,
   "metadata": {},
   "outputs": [],
   "source": []
  }
 ],
 "metadata": {
  "kernelspec": {
   "display_name": "Python 3 (ipykernel)",
   "language": "python",
   "name": "python3"
  },
  "language_info": {
   "codemirror_mode": {
    "name": "ipython",
    "version": 3
   },
   "file_extension": ".py",
   "mimetype": "text/x-python",
   "name": "python",
   "nbconvert_exporter": "python",
   "pygments_lexer": "ipython3",
   "version": "3.9.12"
  }
 },
 "nbformat": 4,
 "nbformat_minor": 1
}
